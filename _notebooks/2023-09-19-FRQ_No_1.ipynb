{
 "cells": [
  {
   "cell_type": "markdown",
   "metadata": {},
   "source": [
    "---\n",
    "toc: true\n",
    "comments: true\n",
    "layout: post\n",
    "title: FRQ No. 1 -- Methods and Control Structures Overview\n",
    "type: help\n",
    "courses: { csa: {week: 4} }\n",
    "---"
   ]
  },
  {
   "attachments": {},
   "cell_type": "markdown",
   "metadata": {},
   "source": [
    "\n",
    "# **Topics Covered**\n",
    "- **Method Declaration and Invocation:**\n",
    "  - Define methods, return types, and calling.\n",
    "- **Control Structures:**\n",
    "  - Conditional statements (if, else if, else).\n",
    "  - Loops (for, while).\n",
    "  - Switch statements.\n",
    "- **Variable Scope:**\n",
    "  - How variables are scoped within methods.\n",
    "  - Accessing variables.\n",
    "- **Parameter Passing:**\n",
    "  - Passing parameters to methods.\n",
    "  - Pass-by-value.\n",
    "- **Recursion:**\n",
    "  - Recursion-related questions.\n",
    "  - Base cases and recursive calls.\n",
    "\n",
    "# **Common Questions**\n",
    "- **Method Definition:**\n",
    "  - Defining methods with name, return type, parameters, and purpose.\n",
    "- **Method Invocation:**\n",
    "  - Calling methods with specific arguments.\n",
    "- **Conditional Statements:**\n",
    "  - Writing code using if, else if, and else.\n",
    "- **Loops:**\n",
    "  - Implementing loops for problem-solving.\n",
    "- **Variable Usage:**\n",
    "  - Using variables within methods.\n",
    "  - Differentiating local and instance variables.\n",
    "- **Recursion Examples:**\n",
    "  - Writing recursive solutions for problems.\n",
    "\n",
    "# **Past AP Exam FRQs: 2022 #1**"
   ]
  },
  {
   "cell_type": "code",
   "execution_count": 5,
   "metadata": {
    "vscode": {
     "languageId": "java"
    }
   },
   "outputs": [],
   "source": [
    "public class Level\n",
    "{\n",
    "  /** Returns true if the player reached the goal on this level and returns false otherwise */\n",
    "  public boolean goalReached()\n",
    "  { return false; }\n",
    "  /** Returns the number of points (a positive integer) recorded for this level */\n",
    "  public int getPoints()\n",
    "  { return 0; }\n",
    "  // There may be instance variables, constructors, and methods that are not shown.\n",
    "} "
   ]
  },
  {
   "cell_type": "code",
   "execution_count": 6,
   "metadata": {
    "vscode": {
     "languageId": "java"
    }
   },
   "outputs": [],
   "source": [
    "public class Game\n",
    "{\n",
    "  private Level levelOne;\n",
    "  private Level levelTwo;\n",
    "  private Level levelThree;\n",
    "  /** Postcondition: All instance variables have been initialized. */\n",
    "  public Game()\n",
    "  { /* implementation not shown */ }\n",
    "  /** Returns true if this game is a bonus game and returns false otherwise */\n",
    "  public boolean isBonus()\n",
    "  { return false; }\n",
    "  /** Simulates the play of this Game (consisting of three levels) and updates all relevant\n",
    "  * game data\n",
    "  */\n",
    "  public void play()\n",
    "  { /* implementation not shown */ }\n",
    "  /** Returns the score earned in the most recently played game, as described in part (a) */\n",
    "  public int getScore()\n",
    "  { return 0; }\n",
    "  /** Simulates the play of num games and returns the highest score earned, as\n",
    "  * described in part (b)\n",
    "  * Precondition: num > 0\n",
    "  */\n",
    "  public int playManyTimes(int num)\n",
    "  { return 0; }\n",
    "  // There may be instance variables, constructors, and methods that are not shown.\n",
    "} "
   ]
  },
  {
   "attachments": {},
   "cell_type": "markdown",
   "metadata": {},
   "source": [
    "**#1a)** Write the getScore method, which returns the score for the most recently played game. Each game consists of three levels. The score for the game is computed using the following helper methods.\n",
    "- The isBonus method of the Game class returns true if this is a bonus game and returns false otherwise.\n",
    "- The goalReached method of the Level class returns true if the goal has been reached on a particular level and returns false otherwise.\n",
    "- The getPoints method of the Level class returns the number of points recorded on a particular level. Whether or not recorded points are earned (included in the game score) depends on the rules of the game, which follow\n",
    "\n",
    "**#2a)** Write the playManyTimes method, which simulates the play of num games and returns the highest game score earned. For example, if the four plays of the game that are simulated as a result of the method call playManyTimes(4) earn scores of 75, 50, 90, and 20, then the method should return 90.\n",
    "- Play of the game is simulated by calling the helper method play. Note that if play is called only one time followed by multiple consecutive calls to getScore, each call to getScore will return the score earned in the single simulated play of the game.\n",
    "- Complete the playManyTimes method. Assume that getScore works as intended, regardless of what you wrote in part (a). You must call play and getScore appropriately in order to receive full credit.\n",
    "/** Simulates the play of num games and returns the highest score earned, as\n",
    "* described in part (b)\n",
    "* Precondition: num > 0\n",
    "*/\n",
    "public int playManyTimes(int num)"
   ]
  },
  {
   "cell_type": "code",
   "execution_count": 9,
   "metadata": {
    "vscode": {
     "languageId": "java"
    }
   },
   "outputs": [],
   "source": [
    "import java.util.ArrayList;\n",
    "\n",
    "public class Game\n",
    "{\n",
    "\n",
    "  private Level levelOne;\n",
    "  private Level levelTwo;\n",
    "  private Level levelThree;\n",
    "\n",
    "  public int getScore() {\n",
    "\n",
    "    int multiplier = isBonus() ? 3 : 1;\n",
    "\n",
    "    if (levelThree.goalReached() && levelTwo.goalReached()) {\n",
    "      if (levelThree.goalReached()) \n",
    "        return (levelOne.getPoints()+levelTwo.getPoints()+levelThree.getPoints())*multiplier;\n",
    "      else \n",
    "        return (levelOne.getPoints()+levelTwo.getPoints())*multiplier;\n",
    "    } else {\n",
    "      return levelOne.getPoints()*multiplier; \n",
    "    }\n",
    "  }\n",
    "\n",
    "  public int playManyTimes(int num) {\n",
    "    ArrayList<Integer> scores = new ArrayList<Integer>();\n",
    "    \n",
    "    for (int i = 0; i < num; i++) {\n",
    "      this.play();\n",
    "      scores.add(game.getScore());\n",
    "    }\n",
    "\n",
    "    int largestScore = scores.get(0);\n",
    "\n",
    "    for (int i = 0; i < scores.size(); i++) {\n",
    "      if (scores.get(i) > largestScore) largestScore = scores.get(i);\n",
    "    }\n",
    "\n",
    "    return largestScore;\n",
    "  }\n",
    "\n",
    "  public boolean isBonus()\n",
    "  { return false; }\n",
    "\n",
    "  public void play() {}\n",
    "}"
   ]
  },
  {
   "cell_type": "markdown",
   "metadata": {},
   "source": [
    "![image](https://github.com/rohinsood/csp/assets/69406769/6f061c5d-b9cc-4482-ba7a-b10be202592f)\n",
    "![image](https://github.com/rohinsood/csp/assets/69406769/ed7430f4-bdcf-4292-b9e2-f509d283edc9)"
   ]
  }
 ],
 "metadata": {
  "kernelspec": {
   "display_name": "Java",
   "language": "java",
   "name": "java"
  },
  "language_info": {
   "codemirror_mode": "java",
   "file_extension": ".jshell",
   "mimetype": "text/x-java-source",
   "name": "Java",
   "pygments_lexer": "java",
   "version": "17.0.8.1+1-Ubuntu-0ubuntu122.04"
  },
  "orig_nbformat": 4,
  "vscode": {
   "interpreter": {
    "hash": "e7370f93d1d0cde622a1f8e1c04877d8463912d04d973331ad4851f04de6915a"
   }
  }
 },
 "nbformat": 4,
 "nbformat_minor": 2
}
