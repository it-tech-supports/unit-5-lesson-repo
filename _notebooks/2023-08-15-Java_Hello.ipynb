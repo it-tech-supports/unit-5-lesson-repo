{
 "cells": [
  {
   "attachments": {},
   "cell_type": "markdown",
   "metadata": {},
   "source": [
    "---\n",
    "layout: post\n",
    "title: Java Hello\n",
    "description: A progressive journey through Java basics starting with the classic \"Hello, World!\" example.\n",
    "courses: { csse: {week: 0}, csp: {week: 0}, csa: {week: 2} }\n",
    "type: hacks\n",
    "---"
   ]
  },
  {
   "attachments": {},
   "cell_type": "markdown",
   "metadata": {},
   "source": [
    "## Hello, World!\n",
    "This article shows the basic language structures and constructs of Java (aka anatomy).  In async order, it is critical to understand these examples and learn vocab for OOP and Creating Objects: \n",
    "- [Object Oriented Programming](https://youtu.be/Wok4Xw_5cyY) \n",
    "- [Creating Objects](https://youtu.be/C5Ks_u87Ltg)\n",
    "- [Calling Methods](https://youtu.be/CPE_lYGCw3A)"
   ]
  },
  {
   "attachments": {},
   "cell_type": "markdown",
   "metadata": {},
   "source": [
    "### Static example\n",
    "The class HelloStatic contains the classic \"Hello, World!\" message that is often used as an introduction to a programming language.  The \"public static void main(String[] args)\", or main method, is the default runtime method in Java and has a very specific and ordered definition (signature). \n",
    "\n",
    "The key terms in HelloStatic introduction:\n",
    "- \"class\" is a blueprint for code, it is the code definition and must be called to run\n",
    "- \"method\" or \"static method\" in this case, is the code to be run/executed, similar to a procedure\n",
    "- \"method definition\" or \"signature\" are the keywords \"public static void\" in front of the name \"main\" and the parameters \"String[] args\" after the name.\n",
    "- \"method call\" is the means in which we run the defined code\n"
   ]
  },
  {
   "cell_type": "code",
   "execution_count": 1,
   "metadata": {},
   "outputs": [
    {
     "name": "stdout",
     "output_type": "stream",
     "text": [
      "Hello World!\n"
     ]
    }
   ],
   "source": [
    "// Define Static Method within a Class\n",
    "public class HelloStatic {\n",
    "    // Java standard runtime entry point\n",
    "    public static void main(String[] args) {    \n",
    "        System.out.println(\"Hello World!\");\n",
    "    }\n",
    "}\n",
    "// A method call allows us to execute code that is wrapped in Class\n",
    "HelloStatic.main(null);   // Class prefix allows reference of Static Method"
   ]
  },
  {
   "attachments": {},
   "cell_type": "markdown",
   "metadata": {},
   "source": [
    "### Dynamic Example\n",
    "This example starts to use Java in its natural manner, using an object within the main method. This example is a very basic illustration of Object Oriente Programming (OOP). The main method is now used as a driver/tester, by making an instance of the class.  Thus, it creates an Object using the HelloObject() constructor.  Also, this Class contains a getter method called getHello() which returns the value with the \"String hello\".\n",
    "\n",
    "The key terms in HelloStatic introduction:\n",
    "- \"Object Oriented Programming\" focuses software design around data, or objects.\n",
    "- \"object\" contains both methods and data\n",
    "- \"instance of a class\" is the process of making an object, unique or instances of variables are created within the object\n",
    "- \"constructor\" special method in class, code that is used to initialize the data within the object\n",
    "- \"getter\" is a method that is used to extract or reference data from within the object. "
   ]
  },
  {
   "cell_type": "code",
   "execution_count": null,
   "metadata": {},
   "outputs": [],
   "source": [
    "// Define Class with Constructor returning Object\n",
    "public class HelloObject {\n",
    "    private String hello;   // instance attribute or variable\n",
    "    public HelloObject() {  // constructor\n",
    "        hello = \"Hello, World!\";\n",
    "    }\n",
    "    public String getHello() {  // getter, returns value from inside the object\n",
    "        return this.hello;  // return String from object\n",
    "    }\n",
    "    public static void main(String[] args) {    \n",
    "        HelloObject ho = new HelloObject(); // Instance of Class (ho) is an Object via \"new HelloObject()\"\n",
    "        System.out.println(ho.getHello()); // Object allows reference to public methods and data\n",
    "    }\n",
    "}\n",
    "// IJava activation\n",
    "HelloObject.main(null);"
   ]
  },
  {
   "attachments": {},
   "cell_type": "markdown",
   "metadata": {},
   "source": [
    "### Dynamic Example with two constructors\n",
    "This last example adds to the basics of the Java anatomy.  The Class now contains two constructors and a setter to go with the getter.  Also, observe the driver/tester now contains two objects that are initialized differently, 0 and 1 argument constructor.  Look at the usage of the \"this\" prefix.  The \"this\" keyword helps in clarification between instance and local variable.\n",
    "\n",
    "The key terms in HelloDynamic introduction:\n",
    "- \"0 argument constructor\" constructor method with no parameter ()\n",
    "- \"1 argument constructor\" construct method with a parameter (String hello)\n",
    "- \"this keyword\" allows you to clear reference something that is part of the object, data or method\n",
    "- \"local variable\" is a variable that is passed to the method in this example, see the 1 argument constructor as it has a local variable \"String hello\"\n",
    "- \"dynamic\" versus \"static\" is something that has option to change, static never changes.  A class (blueprint) and objects (instance of blueprint) are generally intended to be dynamic.  Constructors and Setters are used to dynamically change the content of an object.\n",
    "- \"Java OOP, Java Classes/Objects, Java Class Attributes, Java Class Methods, Java Constructors\" are explained if more complete detail in W3 Schools: https://www.w3schools.com/java/java_oop.asp"
   ]
  },
  {
   "cell_type": "code",
   "execution_count": 1,
   "metadata": {},
   "outputs": [
    {
     "name": "stdout",
     "output_type": "stream",
     "text": [
      "Hello, World!\n",
      "Hello, Nighthawk Coding Society!\n"
     ]
    }
   ],
   "source": [
    "\n",
    "\n",
    "// Define Class\n",
    "public class HelloDynamic { // name the first letter of class as capitalized, note camel case\n",
    "    // instance variable have access modifier (private is most common), data type, and name\n",
    "    private String hello;\n",
    "    // constructor signature 1, public and zero arguments, constructors do not have return type\n",
    "    public HelloDynamic() {  // 0 argument constructor\n",
    "        this.setHello(\"Hello, World!\");  // using setter with static string\n",
    "    }\n",
    "    // constructor signature, public and one argument\n",
    "    public HelloDynamic(String hello) { // 1 argument constructor\n",
    "        this.setHello(hello);   // using setter with local variable passed into constructor\n",
    "    }\n",
    "    // setter/mutator, setter have void return type and a parameter\n",
    "    public void setHello(String hello) { // setter\n",
    "        this.hello = hello;     // instance variable on the left, local variable on the right\n",
    "    }\n",
    "    // getter/accessor, getter used to return private instance variable (encapsulated), return type is String\n",
    "    public String getHello() {  // getter\n",
    "        return this.hello;\n",
    "    }\n",
    "    // public static void main(String[] args) is signature for main/drivers/tester method\n",
    "    // a driver/tester method is singular or called a class method, it is never part of an object\n",
    "    public static void main(String[] args) {  \n",
    "        HelloDynamic hd1 = new HelloDynamic(); // no argument constructor\n",
    "        HelloDynamic hd2 = new HelloDynamic(\"Hello, Nighthawk Coding Society!\"); // one argument constructor\n",
    "        System.out.println(hd1.getHello()); // accessing getter\n",
    "        System.out.println(hd2.getHello()); \n",
    "    }\n",
    "}\n",
    "// IJava activation\n",
    "HelloDynamic.main(null);"
   ]
  },
  {
   "attachments": {},
   "cell_type": "markdown",
   "metadata": {},
   "source": [
    "## Hacks\n",
    "Additional requirements (Pick something)\n",
    "1. Go through code progression of understanding Class usage and generating an Instance of a Class (Object). \n",
    "    a. Build a purposeful dynamic Class, using an Object, generate multiple instances: \n",
    "        - Person: Name and Age\n",
    "        - Dessert: Type and Cost\n",
    "        - Location: City, State, Zip\n",
    "    b. Create a static void main tester method to generate objects of the class.\n",
    "    c. In tester method, show how setters/mutators can be used to make the data in the Object dynamically change\n",
    "3. Go through progression of understanding a Static Class.  Build a purposeful static Class, no Objects.\n",
    "    - Calculate common operations on a Date field, age since date, older of two dates, number of seconds since date\n",
    "    - Calculate stats functions on an array of values: mean, median, mode."
   ]
  },
  {
   "cell_type": "code",
   "execution_count": 8,
   "metadata": {},
   "outputs": [
    {
     "name": "stdout",
     "output_type": "stream",
     "text": [
      "Setting Drive Velocity\n",
      "Setting Flywheel Velocity\n"
     ]
    }
   ],
   "source": [
    "public class Motor {\n",
    "  private double velocity;\n",
    "  private double power;\n",
    "  private double kP;\n",
    "  private double kI;\n",
    "  private double kD;\n",
    "\n",
    "  public Motor() {\n",
    "      // Default constructor\n",
    "  }\n",
    "\n",
    "  public void setVelocity(double velocity) {\n",
    "      this.velocity = velocity;\n",
    "      // Implement logic to adjust motor power based on desired velocity\n",
    "  }\n",
    "\n",
    "  public void setPower(double power) {\n",
    "      this.power = power;\n",
    "      // Set the motor power directly\n",
    "  }\n",
    "\n",
    "  public void setPIDConstants(double kP, double kI, double kD) {\n",
    "      this.kP = kP;\n",
    "      this.kI = kI;\n",
    "      this.kD = kD;\n",
    "      // Store the PID constants for later use\n",
    "  }\n",
    "\n",
    "  // Additional methods for PID control, etc.\n",
    "}\n",
    "\n",
    "public class Drivetrain {\n",
    "  private Motor frontLeftMotor;\n",
    "  private Motor frontRightMotor;\n",
    "  private Motor rearLeftMotor;\n",
    "  private Motor rearRightMotor;\n",
    "\n",
    "  public Drivetrain() {\n",
    "      // Initialize the four motor instances for driving\n",
    "      frontLeftMotor = new Motor();\n",
    "      frontRightMotor = new Motor();\n",
    "      rearLeftMotor = new Motor();\n",
    "      rearRightMotor = new Motor();\n",
    "  }\n",
    "\n",
    "  public void setVelocity(double velocity) {\n",
    "      // Set the desired velocity for all motors in the drivetrain\n",
    "      frontLeftMotor.setVelocity(velocity);\n",
    "      frontRightMotor.setVelocity(velocity);\n",
    "      rearLeftMotor.setVelocity(velocity);\n",
    "      rearRightMotor.setVelocity(velocity);\n",
    "      System.out.println(\"Setting Drive Velocity\");\n",
    "  }\n",
    "\n",
    "  // Other methods for controlling the drivetrain\n",
    "}\n",
    "\n",
    "public class Shooter {\n",
    "  private Motor flywheelMotor1;\n",
    "  private Motor flywheelMotor2;\n",
    "\n",
    "  public Shooter() {\n",
    "      // Initialize the two motor instances for the flywheel\n",
    "      flywheelMotor1 = new Motor();\n",
    "      flywheelMotor2 = new Motor();\n",
    "  }\n",
    "\n",
    "  public void setPower(double power) {\n",
    "      // Set the desired power for both flywheel motors\n",
    "      flywheelMotor1.setPower(power);\n",
    "      flywheelMotor2.setPower(power);\n",
    "      System.out.println(\"Setting Flywheel Velocity\");\n",
    "  }\n",
    "\n",
    "  // Other methods for controlling the shooter\n",
    "}\n",
    "\n",
    "public class Robot {\n",
    "  public static Drivetrain drivetrain;\n",
    "  public static Shooter shooter;\n",
    "\n",
    "  public static void initialize() {\n",
    "      drivetrain = new Drivetrain();\n",
    "      shooter = new Shooter();\n",
    "      // Initialize other subsystems if needed\n",
    "  }\n",
    "}\n",
    "\n",
    "\n",
    "public class RobotControl {\n",
    "  public static void main(String[] args) {\n",
    "      Robot.initialize(); // Initialize subsystems\n",
    "\n",
    "      // Access subsystems via static references\n",
    "      Drivetrain robotDrivetrain = Robot.drivetrain;\n",
    "      Shooter robotShooter = Robot.shooter;\n",
    "\n",
    "      // Control the robot using subsystem methods\n",
    "      robotDrivetrain.setVelocity(0.5);\n",
    "      robotShooter.setPower(0.8);\n",
    "  }\n",
    "}\n",
    "\n",
    "RobotControl.main(null);   // Class prefix allows reference of Static Method"
   ]
  }
 ],
 "metadata": {
  "kernelspec": {
   "display_name": "Java",
   "language": "java",
   "name": "java"
  },
  "language_info": {
   "codemirror_mode": "java",
   "file_extension": ".jshell",
   "mimetype": "text/x-java-source",
   "name": "java",
   "pygments_lexer": "java",
   "version": "17.0.8+7-Ubuntu-122.04"
  },
  "vscode": {
   "interpreter": {
    "hash": "e7370f93d1d0cde622a1f8e1c04877d8463912d04d973331ad4851f04de6915a"
   }
  }
 },
 "nbformat": 4,
 "nbformat_minor": 4
}
